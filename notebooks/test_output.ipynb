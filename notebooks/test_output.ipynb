{
 "cells": [
  {
   "cell_type": "code",
   "execution_count": 44,
   "metadata": {},
   "outputs": [
    {
     "data": {
      "text/plain": [
       "200000"
      ]
     },
     "execution_count": 44,
     "metadata": {},
     "output_type": "execute_result"
    }
   ],
   "source": [
    "import pandas as pd\n",
    "import pickle\n",
    "\n",
    "with open(\"/home/Papafrita/Projects/brd4_binding/data/\" +\n",
    "            \"out_dict_200k.pickle\", \"rb\") as file:\n",
    "    data_dict = pickle.load(file)\n",
    "\n",
    "data = pd.DataFrame.from_dict(data_dict, orient=\"index\")"
   ]
  },
  {
   "cell_type": "code",
   "execution_count": 45,
   "metadata": {},
   "outputs": [],
   "source": [
    "data = data.set_index(data.columns[0])\n",
    "data = data.rename_axis(index=['id'])"
   ]
  },
  {
   "cell_type": "code",
   "execution_count": 46,
   "metadata": {},
   "outputs": [
    {
     "ename": "",
     "evalue": "",
     "output_type": "error",
     "traceback": [
      "\u001b[1;31mThe Kernel crashed while executing code in the current cell or a previous cell. \n",
      "\u001b[1;31mPlease review the code in the cell(s) to identify a possible cause of the failure. \n",
      "\u001b[1;31mClick <a href='https://aka.ms/vscodeJupyterKernelCrash'>here</a> for more info. \n",
      "\u001b[1;31mView Jupyter <a href='command:jupyter.viewOutput'>log</a> for further details."
     ]
    }
   ],
   "source": [
    "from ast import literal_eval\n",
    "\n",
    "for col in data.columns:\n",
    "    data[col] = data[col].apply(literal_eval)"
   ]
  },
  {
   "cell_type": "code",
   "execution_count": 25,
   "metadata": {},
   "outputs": [
    {
     "name": "stdout",
     "output_type": "stream",
     "text": [
      "Bind/No Bind ratio: 0.00\n"
     ]
    }
   ],
   "source": [
    "binds = data[data[\"binds\"] == 1].shape[0]\n",
    "no_binds = data[data[\"binds\"] == 0].shape[0]\n",
    "print(\"Bind/No Bind ratio: {:.2f}\".format(binds/no_binds))"
   ]
  },
  {
   "cell_type": "code",
   "execution_count": 26,
   "metadata": {},
   "outputs": [
    {
     "data": {
      "text/html": [
       "<div>\n",
       "<style scoped>\n",
       "    .dataframe tbody tr th:only-of-type {\n",
       "        vertical-align: middle;\n",
       "    }\n",
       "\n",
       "    .dataframe tbody tr th {\n",
       "        vertical-align: top;\n",
       "    }\n",
       "\n",
       "    .dataframe thead th {\n",
       "        text-align: right;\n",
       "    }\n",
       "</style>\n",
       "<table border=\"1\" class=\"dataframe\">\n",
       "  <thead>\n",
       "    <tr style=\"text-align: right;\">\n",
       "      <th></th>\n",
       "      <th>MaxAbsEStateIndex</th>\n",
       "      <th>MaxEStateIndex</th>\n",
       "      <th>MinAbsEStateIndex</th>\n",
       "      <th>MinEStateIndex</th>\n",
       "      <th>qed</th>\n",
       "      <th>SPS</th>\n",
       "      <th>MolWt</th>\n",
       "      <th>HeavyAtomMolWt</th>\n",
       "      <th>ExactMolWt</th>\n",
       "      <th>NumValenceElectrons</th>\n",
       "      <th>...</th>\n",
       "      <th>fr_sulfonamd</th>\n",
       "      <th>fr_sulfone</th>\n",
       "      <th>fr_term_acetylene</th>\n",
       "      <th>fr_tetrazole</th>\n",
       "      <th>fr_thiazole</th>\n",
       "      <th>fr_thiocyan</th>\n",
       "      <th>fr_thiophene</th>\n",
       "      <th>fr_unbrch_alkane</th>\n",
       "      <th>fr_urea</th>\n",
       "      <th>binds</th>\n",
       "    </tr>\n",
       "    <tr>\n",
       "      <th>id</th>\n",
       "      <th></th>\n",
       "      <th></th>\n",
       "      <th></th>\n",
       "      <th></th>\n",
       "      <th></th>\n",
       "      <th></th>\n",
       "      <th></th>\n",
       "      <th></th>\n",
       "      <th></th>\n",
       "      <th></th>\n",
       "      <th></th>\n",
       "      <th></th>\n",
       "      <th></th>\n",
       "      <th></th>\n",
       "      <th></th>\n",
       "      <th></th>\n",
       "      <th></th>\n",
       "      <th></th>\n",
       "      <th></th>\n",
       "      <th></th>\n",
       "      <th></th>\n",
       "    </tr>\n",
       "  </thead>\n",
       "  <tbody>\n",
       "    <tr>\n",
       "      <th>221249733</th>\n",
       "      <td>(10.542537792894935, 5.510416666666666, 11.566...</td>\n",
       "      <td>(10.542537792894935, 5.510416666666666, 11.566...</td>\n",
       "      <td>(0.03935185185185164, 0.3414351851851849, 0.01...</td>\n",
       "      <td>(-1.3236111111111108, 0.3414351851851849, -3.0...</td>\n",
       "      <td>(0.629627805420395, 0.5706569889658594, 0.7134...</td>\n",
       "      <td>(9.23076923076923, 36.666666666666664, 24.2307...</td>\n",
       "      <td>(182.135, 129.203, 197.25900000000001)</td>\n",
       "      <td>(176.08699999999996, 114.08299999999998, 186.1...</td>\n",
       "      <td>(182.032756672, 129.1153641, 197.051049592)</td>\n",
       "      <td>(68, 54, 70)</td>\n",
       "      <td>...</td>\n",
       "      <td>(0, 0, 0)</td>\n",
       "      <td>(0, 0, 1)</td>\n",
       "      <td>(0, 0, 0)</td>\n",
       "      <td>(0, 0, 0)</td>\n",
       "      <td>(0, 0, 0)</td>\n",
       "      <td>(0, 0, 0)</td>\n",
       "      <td>(0, 0, 0)</td>\n",
       "      <td>(0, 0, 0)</td>\n",
       "      <td>(0, 0, 0)</td>\n",
       "      <td>0</td>\n",
       "    </tr>\n",
       "    <tr>\n",
       "      <th>221249736</th>\n",
       "      <td>(10.542537792894935, 5.510416666666666, 5.7922...</td>\n",
       "      <td>(10.542537792894935, 5.510416666666666, 5.7922...</td>\n",
       "      <td>(0.03935185185185164, 0.3414351851851849, 0.55...</td>\n",
       "      <td>(-1.3236111111111108, 0.3414351851851849, 0.55...</td>\n",
       "      <td>(0.629627805420395, 0.5706569889658594, 0.8414...</td>\n",
       "      <td>(9.23076923076923, 36.666666666666664, 22.8666...</td>\n",
       "      <td>(182.135, 129.203, 222.357)</td>\n",
       "      <td>(176.08699999999996, 114.08299999999998, 204.2...</td>\n",
       "      <td>(182.032756672, 129.1153641, 222.119069576)</td>\n",
       "      <td>(68, 54, 82)</td>\n",
       "      <td>...</td>\n",
       "      <td>(0, 0, 0)</td>\n",
       "      <td>(0, 0, 0)</td>\n",
       "      <td>(0, 0, 0)</td>\n",
       "      <td>(0, 0, 0)</td>\n",
       "      <td>(0, 0, 0)</td>\n",
       "      <td>(0, 0, 0)</td>\n",
       "      <td>(0, 0, 0)</td>\n",
       "      <td>(0, 0, 0)</td>\n",
       "      <td>(0, 0, 0)</td>\n",
       "      <td>0</td>\n",
       "    </tr>\n",
       "    <tr>\n",
       "      <th>221249880</th>\n",
       "      <td>(10.542537792894935, 5.510416666666666, 5.2421...</td>\n",
       "      <td>(10.542537792894935, 5.510416666666666, 5.2421...</td>\n",
       "      <td>(0.03935185185185164, 0.3414351851851849, 0.56...</td>\n",
       "      <td>(-1.3236111111111108, 0.3414351851851849, 0.56...</td>\n",
       "      <td>(0.629627805420395, 0.5706569889658594, 0.5803...</td>\n",
       "      <td>(9.23076923076923, 36.666666666666664, 9.28571...</td>\n",
       "      <td>(182.135, 129.203, 114.17299999999997)</td>\n",
       "      <td>(176.08699999999996, 114.08299999999998, 108.125)</td>\n",
       "      <td>(182.032756672, 129.1153641, 114.02516919199999)</td>\n",
       "      <td>(68, 54, 38)</td>\n",
       "      <td>...</td>\n",
       "      <td>(0, 0, 0)</td>\n",
       "      <td>(0, 0, 0)</td>\n",
       "      <td>(0, 0, 0)</td>\n",
       "      <td>(0, 0, 0)</td>\n",
       "      <td>(0, 0, 1)</td>\n",
       "      <td>(0, 0, 0)</td>\n",
       "      <td>(0, 0, 0)</td>\n",
       "      <td>(0, 0, 0)</td>\n",
       "      <td>(0, 0, 0)</td>\n",
       "      <td>0</td>\n",
       "    </tr>\n",
       "    <tr>\n",
       "      <th>221250369</th>\n",
       "      <td>(10.542537792894935, 11.667083333333334, 10.73...</td>\n",
       "      <td>(10.542537792894935, 11.667083333333334, 10.73...</td>\n",
       "      <td>(0.03935185185185164, 0.02027777777777784, 0.0)</td>\n",
       "      <td>(-1.3236111111111108, -3.1709027777777785, -0....</td>\n",
       "      <td>(0.629627805420395, 0.6907794287953419, 0.6451...</td>\n",
       "      <td>(9.23076923076923, 30.5, 8.0)</td>\n",
       "      <td>(182.135, 222.30999999999995, 218.12800000000001)</td>\n",
       "      <td>(176.08699999999996, 204.16599999999997, 200.992)</td>\n",
       "      <td>(182.032756672, 222.103813436, 217.07486752399...</td>\n",
       "      <td>(68, 84, 76)</td>\n",
       "      <td>...</td>\n",
       "      <td>(0, 1, 0)</td>\n",
       "      <td>(0, 0, 0)</td>\n",
       "      <td>(0, 0, 0)</td>\n",
       "      <td>(0, 0, 0)</td>\n",
       "      <td>(0, 0, 0)</td>\n",
       "      <td>(0, 0, 0)</td>\n",
       "      <td>(0, 0, 0)</td>\n",
       "      <td>(0, 0, 0)</td>\n",
       "      <td>(0, 0, 1)</td>\n",
       "      <td>0</td>\n",
       "    </tr>\n",
       "    <tr>\n",
       "      <th>221250546</th>\n",
       "      <td>(10.542537792894935, 11.667083333333334, 10.81...</td>\n",
       "      <td>(10.542537792894935, 11.667083333333334, 10.81...</td>\n",
       "      <td>(0.03935185185185164, 0.02027777777777784, 0.2...</td>\n",
       "      <td>(-1.3236111111111108, -3.1709027777777785, 0.2...</td>\n",
       "      <td>(0.629627805420395, 0.6907794287953419, 0.5134...</td>\n",
       "      <td>(9.23076923076923, 30.5, 27.555555555555557)</td>\n",
       "      <td>(182.135, 222.30999999999995, 128.175)</td>\n",
       "      <td>(176.08699999999996, 204.16599999999997, 116.0...</td>\n",
       "      <td>(182.032756672, 222.103813436, 128.094963004)</td>\n",
       "      <td>(68, 84, 52)</td>\n",
       "      <td>...</td>\n",
       "      <td>(0, 1, 0)</td>\n",
       "      <td>(0, 0, 0)</td>\n",
       "      <td>(0, 0, 0)</td>\n",
       "      <td>(0, 0, 0)</td>\n",
       "      <td>(0, 0, 0)</td>\n",
       "      <td>(0, 0, 0)</td>\n",
       "      <td>(0, 0, 0)</td>\n",
       "      <td>(0, 0, 0)</td>\n",
       "      <td>(0, 0, 0)</td>\n",
       "      <td>0</td>\n",
       "    </tr>\n",
       "  </tbody>\n",
       "</table>\n",
       "<p>5 rows × 211 columns</p>\n",
       "</div>"
      ],
      "text/plain": [
       "                                           MaxAbsEStateIndex  \\\n",
       "id                                                             \n",
       "221249733  (10.542537792894935, 5.510416666666666, 11.566...   \n",
       "221249736  (10.542537792894935, 5.510416666666666, 5.7922...   \n",
       "221249880  (10.542537792894935, 5.510416666666666, 5.2421...   \n",
       "221250369  (10.542537792894935, 11.667083333333334, 10.73...   \n",
       "221250546  (10.542537792894935, 11.667083333333334, 10.81...   \n",
       "\n",
       "                                              MaxEStateIndex  \\\n",
       "id                                                             \n",
       "221249733  (10.542537792894935, 5.510416666666666, 11.566...   \n",
       "221249736  (10.542537792894935, 5.510416666666666, 5.7922...   \n",
       "221249880  (10.542537792894935, 5.510416666666666, 5.2421...   \n",
       "221250369  (10.542537792894935, 11.667083333333334, 10.73...   \n",
       "221250546  (10.542537792894935, 11.667083333333334, 10.81...   \n",
       "\n",
       "                                           MinAbsEStateIndex  \\\n",
       "id                                                             \n",
       "221249733  (0.03935185185185164, 0.3414351851851849, 0.01...   \n",
       "221249736  (0.03935185185185164, 0.3414351851851849, 0.55...   \n",
       "221249880  (0.03935185185185164, 0.3414351851851849, 0.56...   \n",
       "221250369    (0.03935185185185164, 0.02027777777777784, 0.0)   \n",
       "221250546  (0.03935185185185164, 0.02027777777777784, 0.2...   \n",
       "\n",
       "                                              MinEStateIndex  \\\n",
       "id                                                             \n",
       "221249733  (-1.3236111111111108, 0.3414351851851849, -3.0...   \n",
       "221249736  (-1.3236111111111108, 0.3414351851851849, 0.55...   \n",
       "221249880  (-1.3236111111111108, 0.3414351851851849, 0.56...   \n",
       "221250369  (-1.3236111111111108, -3.1709027777777785, -0....   \n",
       "221250546  (-1.3236111111111108, -3.1709027777777785, 0.2...   \n",
       "\n",
       "                                                         qed  \\\n",
       "id                                                             \n",
       "221249733  (0.629627805420395, 0.5706569889658594, 0.7134...   \n",
       "221249736  (0.629627805420395, 0.5706569889658594, 0.8414...   \n",
       "221249880  (0.629627805420395, 0.5706569889658594, 0.5803...   \n",
       "221250369  (0.629627805420395, 0.6907794287953419, 0.6451...   \n",
       "221250546  (0.629627805420395, 0.6907794287953419, 0.5134...   \n",
       "\n",
       "                                                         SPS  \\\n",
       "id                                                             \n",
       "221249733  (9.23076923076923, 36.666666666666664, 24.2307...   \n",
       "221249736  (9.23076923076923, 36.666666666666664, 22.8666...   \n",
       "221249880  (9.23076923076923, 36.666666666666664, 9.28571...   \n",
       "221250369                      (9.23076923076923, 30.5, 8.0)   \n",
       "221250546       (9.23076923076923, 30.5, 27.555555555555557)   \n",
       "\n",
       "                                                       MolWt  \\\n",
       "id                                                             \n",
       "221249733             (182.135, 129.203, 197.25900000000001)   \n",
       "221249736                        (182.135, 129.203, 222.357)   \n",
       "221249880             (182.135, 129.203, 114.17299999999997)   \n",
       "221250369  (182.135, 222.30999999999995, 218.12800000000001)   \n",
       "221250546             (182.135, 222.30999999999995, 128.175)   \n",
       "\n",
       "                                              HeavyAtomMolWt  \\\n",
       "id                                                             \n",
       "221249733  (176.08699999999996, 114.08299999999998, 186.1...   \n",
       "221249736  (176.08699999999996, 114.08299999999998, 204.2...   \n",
       "221249880  (176.08699999999996, 114.08299999999998, 108.125)   \n",
       "221250369  (176.08699999999996, 204.16599999999997, 200.992)   \n",
       "221250546  (176.08699999999996, 204.16599999999997, 116.0...   \n",
       "\n",
       "                                                  ExactMolWt  \\\n",
       "id                                                             \n",
       "221249733        (182.032756672, 129.1153641, 197.051049592)   \n",
       "221249736        (182.032756672, 129.1153641, 222.119069576)   \n",
       "221249880   (182.032756672, 129.1153641, 114.02516919199999)   \n",
       "221250369  (182.032756672, 222.103813436, 217.07486752399...   \n",
       "221250546      (182.032756672, 222.103813436, 128.094963004)   \n",
       "\n",
       "          NumValenceElectrons  ... fr_sulfonamd fr_sulfone fr_term_acetylene  \\\n",
       "id                             ...                                             \n",
       "221249733        (68, 54, 70)  ...    (0, 0, 0)  (0, 0, 1)         (0, 0, 0)   \n",
       "221249736        (68, 54, 82)  ...    (0, 0, 0)  (0, 0, 0)         (0, 0, 0)   \n",
       "221249880        (68, 54, 38)  ...    (0, 0, 0)  (0, 0, 0)         (0, 0, 0)   \n",
       "221250369        (68, 84, 76)  ...    (0, 1, 0)  (0, 0, 0)         (0, 0, 0)   \n",
       "221250546        (68, 84, 52)  ...    (0, 1, 0)  (0, 0, 0)         (0, 0, 0)   \n",
       "\n",
       "          fr_tetrazole fr_thiazole fr_thiocyan fr_thiophene fr_unbrch_alkane  \\\n",
       "id                                                                             \n",
       "221249733    (0, 0, 0)   (0, 0, 0)   (0, 0, 0)    (0, 0, 0)        (0, 0, 0)   \n",
       "221249736    (0, 0, 0)   (0, 0, 0)   (0, 0, 0)    (0, 0, 0)        (0, 0, 0)   \n",
       "221249880    (0, 0, 0)   (0, 0, 1)   (0, 0, 0)    (0, 0, 0)        (0, 0, 0)   \n",
       "221250369    (0, 0, 0)   (0, 0, 0)   (0, 0, 0)    (0, 0, 0)        (0, 0, 0)   \n",
       "221250546    (0, 0, 0)   (0, 0, 0)   (0, 0, 0)    (0, 0, 0)        (0, 0, 0)   \n",
       "\n",
       "             fr_urea binds  \n",
       "id                          \n",
       "221249733  (0, 0, 0)     0  \n",
       "221249736  (0, 0, 0)     0  \n",
       "221249880  (0, 0, 0)     0  \n",
       "221250369  (0, 0, 1)     0  \n",
       "221250546  (0, 0, 0)     0  \n",
       "\n",
       "[5 rows x 211 columns]"
      ]
     },
     "execution_count": 26,
     "metadata": {},
     "output_type": "execute_result"
    }
   ],
   "source": [
    "data.head()"
   ]
  },
  {
   "cell_type": "code",
   "execution_count": 27,
   "metadata": {},
   "outputs": [],
   "source": [
    "import tensorflow as tf\n",
    "from tensorflow.keras.models import Sequential\n",
    "from tensorflow.keras.layers import Conv1D, LSTM, Dense, GlobalMaxPooling1D, Input\n"
   ]
  },
  {
   "cell_type": "code",
   "execution_count": 28,
   "metadata": {},
   "outputs": [
    {
     "name": "stdout",
     "output_type": "stream",
     "text": [
      "Num GPUs Available:  1\n"
     ]
    }
   ],
   "source": [
    "print(\"Num GPUs Available: \", len(tf.config.list_physical_devices('GPU')))"
   ]
  },
  {
   "cell_type": "code",
   "execution_count": 29,
   "metadata": {},
   "outputs": [],
   "source": [
    "from sklearn.model_selection import train_test_split\n",
    "\n",
    "feature_cols = data.columns[:-1].to_list()\n",
    "X = data[feature_cols]\n",
    "y = data.binds"
   ]
  },
  {
   "cell_type": "code",
   "execution_count": 30,
   "metadata": {},
   "outputs": [],
   "source": [
    "X_train, X_test, y_train, y_test = train_test_split(X, y, test_size=0.2, random_state=42)"
   ]
  },
  {
   "cell_type": "code",
   "execution_count": 39,
   "metadata": {},
   "outputs": [
    {
     "data": {
      "text/plain": [
       "'(10.542537792894935, 5.510416666666666, 11.56675925925926)'"
      ]
     },
     "execution_count": 39,
     "metadata": {},
     "output_type": "execute_result"
    }
   ],
   "source": [
    "(data.iloc[0, 0])"
   ]
  },
  {
   "cell_type": "code",
   "execution_count": null,
   "metadata": {},
   "outputs": [],
   "source": [
    "def create_cnn_model(input_shape):\n",
    "    model = Sequential(\n",
    "        Input(shape=input_shape),\n",
    "        Conv1D(64, kernel_size=3, activation=\"relu\"),\n",
    "        Conv1D(64, kernel_size=3, activation=\"relu\"),\n",
    "        GlobalMaxPooling1D(),\n",
    "        Dense(64, activation=\"relu\"),\n",
    "        Dense(1, activation=\"sigmoid\"),\n",
    "        )\n"
   ]
  }
 ],
 "metadata": {
  "kernelspec": {
   "display_name": ".venv",
   "language": "python",
   "name": "python3"
  },
  "language_info": {
   "codemirror_mode": {
    "name": "ipython",
    "version": 3
   },
   "file_extension": ".py",
   "mimetype": "text/x-python",
   "name": "python",
   "nbconvert_exporter": "python",
   "pygments_lexer": "ipython3",
   "version": "3.11.2"
  }
 },
 "nbformat": 4,
 "nbformat_minor": 2
}
