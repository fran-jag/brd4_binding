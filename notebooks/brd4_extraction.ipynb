{
 "cells": [
  {
   "cell_type": "code",
   "execution_count": 1,
   "metadata": {},
   "outputs": [],
   "source": [
    "import os\n",
    "\n",
    "import pandas as pd\n",
    "import pyspark as ps\n",
    "\n",
    "from pyspark.sql import SparkSession\n"
   ]
  },
  {
   "cell_type": "code",
   "execution_count": 2,
   "metadata": {},
   "outputs": [
    {
     "name": "stderr",
     "output_type": "stream",
     "text": [
      "your 131072x1 screen size is bogus. expect trouble\n",
      "24/09/21 12:37:08 WARN Utils: Your hostname, Sara-Home resolves to a loopback address: 127.0.1.1; using 10.255.255.254 instead (on interface lo)\n",
      "24/09/21 12:37:08 WARN Utils: Set SPARK_LOCAL_IP if you need to bind to another address\n",
      "Setting default log level to \"WARN\".\n",
      "To adjust logging level use sc.setLogLevel(newLevel). For SparkR, use setLogLevel(newLevel).\n",
      "24/09/21 12:37:09 WARN NativeCodeLoader: Unable to load native-hadoop library for your platform... using builtin-java classes where applicable\n"
     ]
    }
   ],
   "source": [
    "spark = (SparkSession\n",
    "         .builder\n",
    "         .appName(\"BELKA\")\n",
    "         .config(\"spark.driver.memory\", \"5g\")\n",
    "         .config(\"spark.executor.memory\", \"5g\")\n",
    "         .getOrCreate()\n",
    "         )"
   ]
  },
  {
   "cell_type": "code",
   "execution_count": 3,
   "metadata": {},
   "outputs": [],
   "source": [
    "belka_df = spark.read.parquet(\"../data/train.parquet\")"
   ]
  },
  {
   "cell_type": "code",
   "execution_count": 4,
   "metadata": {},
   "outputs": [
    {
     "name": "stdout",
     "output_type": "stream",
     "text": [
      "+---+---------------------+---------------------+---------------------+--------------------+------------+-----+\n",
      "| id|buildingblock1_smiles|buildingblock2_smiles|buildingblock3_smiles|     molecule_smiles|protein_name|binds|\n",
      "+---+---------------------+---------------------+---------------------+--------------------+------------+-----+\n",
      "|  0| C#CC[C@@H](CC(=O)...| C#CCOc1ccc(CN)cc1.Cl| Br.Br.NCC1CCCN1c1...|C#CCOc1ccc(CNc2nc...|        BRD4|    0|\n",
      "|  1| C#CC[C@@H](CC(=O)...| C#CCOc1ccc(CN)cc1.Cl| Br.Br.NCC1CCCN1c1...|C#CCOc1ccc(CNc2nc...|         HSA|    0|\n",
      "|  2| C#CC[C@@H](CC(=O)...| C#CCOc1ccc(CN)cc1.Cl| Br.Br.NCC1CCCN1c1...|C#CCOc1ccc(CNc2nc...|         sEH|    0|\n",
      "|  3| C#CC[C@@H](CC(=O)...| C#CCOc1ccc(CN)cc1.Cl|    Br.NCc1cccc(Br)n1|C#CCOc1ccc(CNc2nc...|        BRD4|    0|\n",
      "|  4| C#CC[C@@H](CC(=O)...| C#CCOc1ccc(CN)cc1.Cl|    Br.NCc1cccc(Br)n1|C#CCOc1ccc(CNc2nc...|         HSA|    0|\n",
      "+---+---------------------+---------------------+---------------------+--------------------+------------+-----+\n",
      "only showing top 5 rows\n",
      "\n"
     ]
    }
   ],
   "source": [
    "belka_df.show(n=5)"
   ]
  },
  {
   "cell_type": "code",
   "execution_count": 5,
   "metadata": {},
   "outputs": [
    {
     "name": "stdout",
     "output_type": "stream",
     "text": [
      "+---+---------------------+---------------------+---------------------+--------------------+------------+-----+\n",
      "| id|buildingblock1_smiles|buildingblock2_smiles|buildingblock3_smiles|     molecule_smiles|protein_name|binds|\n",
      "+---+---------------------+---------------------+---------------------+--------------------+------------+-----+\n",
      "|  0| C#CC[C@@H](CC(=O)...| C#CCOc1ccc(CN)cc1.Cl| Br.Br.NCC1CCCN1c1...|C#CCOc1ccc(CNc2nc...|        BRD4|    0|\n",
      "|  3| C#CC[C@@H](CC(=O)...| C#CCOc1ccc(CN)cc1.Cl|    Br.NCc1cccc(Br)n1|C#CCOc1ccc(CNc2nc...|        BRD4|    0|\n",
      "|  6| C#CC[C@@H](CC(=O)...| C#CCOc1ccc(CN)cc1.Cl| C#CCOc1ccc(CN)cc1.Cl|C#CCOc1ccc(CNc2nc...|        BRD4|    0|\n",
      "|  9| C#CC[C@@H](CC(=O)...| C#CCOc1ccc(CN)cc1.Cl|   C=C(C)C(=O)NCCN.Cl|C#CCOc1ccc(CNc2nc...|        BRD4|    0|\n",
      "| 12| C#CC[C@@H](CC(=O)...| C#CCOc1ccc(CN)cc1.Cl|      C=CCNC(=O)CN.Cl|C#CCOc1ccc(CNc2nc...|        BRD4|    0|\n",
      "+---+---------------------+---------------------+---------------------+--------------------+------------+-----+\n",
      "only showing top 5 rows\n",
      "\n"
     ]
    }
   ],
   "source": [
    "brd4_df = belka_df.filter(belka_df.protein_name == \"BRD4\")\n",
    "brd4_df.show(5)"
   ]
  },
  {
   "cell_type": "code",
   "execution_count": 6,
   "metadata": {},
   "outputs": [
    {
     "name": "stderr",
     "output_type": "stream",
     "text": [
      "                                                                                \r"
     ]
    }
   ],
   "source": [
    "brd4_df.write.parquet(\"../data/brd4.parquet\")"
   ]
  },
  {
   "cell_type": "code",
   "execution_count": null,
   "metadata": {},
   "outputs": [],
   "source": []
  }
 ],
 "metadata": {
  "kernelspec": {
   "display_name": ".venv",
   "language": "python",
   "name": "python3"
  },
  "language_info": {
   "codemirror_mode": {
    "name": "ipython",
    "version": 3
   },
   "file_extension": ".py",
   "mimetype": "text/x-python",
   "name": "python",
   "nbconvert_exporter": "python",
   "pygments_lexer": "ipython3",
   "version": "3.11.2"
  }
 },
 "nbformat": 4,
 "nbformat_minor": 2
}
