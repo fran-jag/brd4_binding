{
 "cells": [
  {
   "cell_type": "code",
   "execution_count": 1,
   "metadata": {},
   "outputs": [],
   "source": [
    "import pandas as pd"
   ]
  },
  {
   "cell_type": "code",
   "execution_count": 2,
   "metadata": {},
   "outputs": [],
   "source": [
    "brd4_df = pd.read_parquet(\"../data/brd4_5p.parquet\")"
   ]
  },
  {
   "cell_type": "code",
   "execution_count": 3,
   "metadata": {},
   "outputs": [
    {
     "data": {
      "text/html": [
       "<div>\n",
       "<style scoped>\n",
       "    .dataframe tbody tr th:only-of-type {\n",
       "        vertical-align: middle;\n",
       "    }\n",
       "\n",
       "    .dataframe tbody tr th {\n",
       "        vertical-align: top;\n",
       "    }\n",
       "\n",
       "    .dataframe thead th {\n",
       "        text-align: right;\n",
       "    }\n",
       "</style>\n",
       "<table border=\"1\" class=\"dataframe\">\n",
       "  <thead>\n",
       "    <tr style=\"text-align: right;\">\n",
       "      <th></th>\n",
       "      <th>id</th>\n",
       "      <th>buildingblock1_smiles</th>\n",
       "      <th>buildingblock2_smiles</th>\n",
       "      <th>buildingblock3_smiles</th>\n",
       "      <th>molecule_smiles</th>\n",
       "      <th>protein_name</th>\n",
       "      <th>binds</th>\n",
       "    </tr>\n",
       "  </thead>\n",
       "  <tbody>\n",
       "    <tr>\n",
       "      <th>0</th>\n",
       "      <td>221249733</td>\n",
       "      <td>O=C(Nc1cnccc1C(=O)O)OCC1c2ccccc2-c2ccccc21</td>\n",
       "      <td>CC1CCCC(CN)O1</td>\n",
       "      <td>NCC1CS(=O)(=O)c2ccccc21</td>\n",
       "      <td>CC1CCCC(CNc2nc(NCC3CS(=O)(=O)c4ccccc43)nc(Nc3c...</td>\n",
       "      <td>BRD4</td>\n",
       "      <td>0</td>\n",
       "    </tr>\n",
       "    <tr>\n",
       "      <th>1</th>\n",
       "      <td>221249736</td>\n",
       "      <td>O=C(Nc1cnccc1C(=O)O)OCC1c2ccccc2-c2ccccc21</td>\n",
       "      <td>CC1CCCC(CN)O1</td>\n",
       "      <td>NCC1CSCCN1Cc1ccccc1</td>\n",
       "      <td>CC1CCCC(CNc2nc(NCC3CSCCN3Cc3ccccc3)nc(Nc3cnccc...</td>\n",
       "      <td>BRD4</td>\n",
       "      <td>0</td>\n",
       "    </tr>\n",
       "    <tr>\n",
       "      <th>2</th>\n",
       "      <td>221249880</td>\n",
       "      <td>O=C(Nc1cnccc1C(=O)O)OCC1c2ccccc2-c2ccccc21</td>\n",
       "      <td>CC1CCCC(CN)O1</td>\n",
       "      <td>NCc1nccs1</td>\n",
       "      <td>CC1CCCC(CNc2nc(NCc3nccs3)nc(Nc3cnccc3C(=O)N[Dy...</td>\n",
       "      <td>BRD4</td>\n",
       "      <td>0</td>\n",
       "    </tr>\n",
       "    <tr>\n",
       "      <th>3</th>\n",
       "      <td>221250369</td>\n",
       "      <td>O=C(Nc1cnccc1C(=O)O)OCC1c2ccccc2-c2ccccc21</td>\n",
       "      <td>CC1CN(S(=O)(=O)CCN)CC(C)O1</td>\n",
       "      <td>CC(C)NC(=O)NCCN.Cl.Cl</td>\n",
       "      <td>CC(C)NC(=O)NCCNc1nc(NCCS(=O)(=O)N2CC(C)OC(C)C2...</td>\n",
       "      <td>BRD4</td>\n",
       "      <td>0</td>\n",
       "    </tr>\n",
       "    <tr>\n",
       "      <th>4</th>\n",
       "      <td>221250546</td>\n",
       "      <td>O=C(Nc1cnccc1C(=O)O)OCC1c2ccccc2-c2ccccc21</td>\n",
       "      <td>CC1CN(S(=O)(=O)CCN)CC(C)O1</td>\n",
       "      <td>CN1CC(CN)CC1=O</td>\n",
       "      <td>CC1CN(S(=O)(=O)CCNc2nc(NCC3CC(=O)N(C)C3)nc(Nc3...</td>\n",
       "      <td>BRD4</td>\n",
       "      <td>0</td>\n",
       "    </tr>\n",
       "  </tbody>\n",
       "</table>\n",
       "</div>"
      ],
      "text/plain": [
       "          id                       buildingblock1_smiles  \\\n",
       "0  221249733  O=C(Nc1cnccc1C(=O)O)OCC1c2ccccc2-c2ccccc21   \n",
       "1  221249736  O=C(Nc1cnccc1C(=O)O)OCC1c2ccccc2-c2ccccc21   \n",
       "2  221249880  O=C(Nc1cnccc1C(=O)O)OCC1c2ccccc2-c2ccccc21   \n",
       "3  221250369  O=C(Nc1cnccc1C(=O)O)OCC1c2ccccc2-c2ccccc21   \n",
       "4  221250546  O=C(Nc1cnccc1C(=O)O)OCC1c2ccccc2-c2ccccc21   \n",
       "\n",
       "        buildingblock2_smiles    buildingblock3_smiles  \\\n",
       "0               CC1CCCC(CN)O1  NCC1CS(=O)(=O)c2ccccc21   \n",
       "1               CC1CCCC(CN)O1      NCC1CSCCN1Cc1ccccc1   \n",
       "2               CC1CCCC(CN)O1                NCc1nccs1   \n",
       "3  CC1CN(S(=O)(=O)CCN)CC(C)O1    CC(C)NC(=O)NCCN.Cl.Cl   \n",
       "4  CC1CN(S(=O)(=O)CCN)CC(C)O1           CN1CC(CN)CC1=O   \n",
       "\n",
       "                                     molecule_smiles protein_name  binds  \n",
       "0  CC1CCCC(CNc2nc(NCC3CS(=O)(=O)c4ccccc43)nc(Nc3c...         BRD4      0  \n",
       "1  CC1CCCC(CNc2nc(NCC3CSCCN3Cc3ccccc3)nc(Nc3cnccc...         BRD4      0  \n",
       "2  CC1CCCC(CNc2nc(NCc3nccs3)nc(Nc3cnccc3C(=O)N[Dy...         BRD4      0  \n",
       "3  CC(C)NC(=O)NCCNc1nc(NCCS(=O)(=O)N2CC(C)OC(C)C2...         BRD4      0  \n",
       "4  CC1CN(S(=O)(=O)CCNc2nc(NCC3CC(=O)N(C)C3)nc(Nc3...         BRD4      0  "
      ]
     },
     "execution_count": 3,
     "metadata": {},
     "output_type": "execute_result"
    }
   ],
   "source": [
    "brd4_df.head()"
   ]
  },
  {
   "cell_type": "code",
   "execution_count": 4,
   "metadata": {},
   "outputs": [
    {
     "data": {
      "text/plain": [
       "id                       983457\n",
       "buildingblock1_smiles       271\n",
       "buildingblock2_smiles       693\n",
       "buildingblock3_smiles       872\n",
       "molecule_smiles          983457\n",
       "protein_name                  1\n",
       "binds                         2\n",
       "dtype: int64"
      ]
     },
     "execution_count": 4,
     "metadata": {},
     "output_type": "execute_result"
    }
   ],
   "source": [
    "brd4_df.nunique()"
   ]
  },
  {
   "cell_type": "code",
   "execution_count": 5,
   "metadata": {},
   "outputs": [
    {
     "data": {
      "text/html": [
       "<div>\n",
       "<style scoped>\n",
       "    .dataframe tbody tr th:only-of-type {\n",
       "        vertical-align: middle;\n",
       "    }\n",
       "\n",
       "    .dataframe tbody tr th {\n",
       "        vertical-align: top;\n",
       "    }\n",
       "\n",
       "    .dataframe thead th {\n",
       "        text-align: right;\n",
       "    }\n",
       "</style>\n",
       "<table border=\"1\" class=\"dataframe\">\n",
       "  <thead>\n",
       "    <tr style=\"text-align: right;\">\n",
       "      <th></th>\n",
       "      <th>id</th>\n",
       "      <th>buildingblock1_smiles</th>\n",
       "      <th>buildingblock2_smiles</th>\n",
       "      <th>buildingblock3_smiles</th>\n",
       "      <th>molecule_smiles</th>\n",
       "      <th>protein_name</th>\n",
       "      <th>binds</th>\n",
       "    </tr>\n",
       "  </thead>\n",
       "  <tbody>\n",
       "    <tr>\n",
       "      <th>0</th>\n",
       "      <td>221249733</td>\n",
       "      <td>O=C(Nc1cnccc1C(=O)O)OCC1c2ccccc2-c2ccccc21</td>\n",
       "      <td>CC1CCCC(CN)O1</td>\n",
       "      <td>NCC1CS(=O)(=O)c2ccccc21</td>\n",
       "      <td>CC1CCCC(CNc2nc(NCC3CS(=O)(=O)c4ccccc43)nc(Nc3c...</td>\n",
       "      <td>BRD4</td>\n",
       "      <td>0</td>\n",
       "    </tr>\n",
       "    <tr>\n",
       "      <th>1</th>\n",
       "      <td>221249736</td>\n",
       "      <td>O=C(Nc1cnccc1C(=O)O)OCC1c2ccccc2-c2ccccc21</td>\n",
       "      <td>CC1CCCC(CN)O1</td>\n",
       "      <td>NCC1CSCCN1Cc1ccccc1</td>\n",
       "      <td>CC1CCCC(CNc2nc(NCC3CSCCN3Cc3ccccc3)nc(Nc3cnccc...</td>\n",
       "      <td>BRD4</td>\n",
       "      <td>0</td>\n",
       "    </tr>\n",
       "    <tr>\n",
       "      <th>2</th>\n",
       "      <td>221249880</td>\n",
       "      <td>O=C(Nc1cnccc1C(=O)O)OCC1c2ccccc2-c2ccccc21</td>\n",
       "      <td>CC1CCCC(CN)O1</td>\n",
       "      <td>NCc1nccs1</td>\n",
       "      <td>CC1CCCC(CNc2nc(NCc3nccs3)nc(Nc3cnccc3C(=O)N[Dy...</td>\n",
       "      <td>BRD4</td>\n",
       "      <td>0</td>\n",
       "    </tr>\n",
       "    <tr>\n",
       "      <th>3</th>\n",
       "      <td>221250369</td>\n",
       "      <td>O=C(Nc1cnccc1C(=O)O)OCC1c2ccccc2-c2ccccc21</td>\n",
       "      <td>CC1CN(S(=O)(=O)CCN)CC(C)O1</td>\n",
       "      <td>CC(C)NC(=O)NCCN.Cl.Cl</td>\n",
       "      <td>CC(C)NC(=O)NCCNc1nc(NCCS(=O)(=O)N2CC(C)OC(C)C2...</td>\n",
       "      <td>BRD4</td>\n",
       "      <td>0</td>\n",
       "    </tr>\n",
       "    <tr>\n",
       "      <th>4</th>\n",
       "      <td>221250546</td>\n",
       "      <td>O=C(Nc1cnccc1C(=O)O)OCC1c2ccccc2-c2ccccc21</td>\n",
       "      <td>CC1CN(S(=O)(=O)CCN)CC(C)O1</td>\n",
       "      <td>CN1CC(CN)CC1=O</td>\n",
       "      <td>CC1CN(S(=O)(=O)CCNc2nc(NCC3CC(=O)N(C)C3)nc(Nc3...</td>\n",
       "      <td>BRD4</td>\n",
       "      <td>0</td>\n",
       "    </tr>\n",
       "  </tbody>\n",
       "</table>\n",
       "</div>"
      ],
      "text/plain": [
       "          id                       buildingblock1_smiles  \\\n",
       "0  221249733  O=C(Nc1cnccc1C(=O)O)OCC1c2ccccc2-c2ccccc21   \n",
       "1  221249736  O=C(Nc1cnccc1C(=O)O)OCC1c2ccccc2-c2ccccc21   \n",
       "2  221249880  O=C(Nc1cnccc1C(=O)O)OCC1c2ccccc2-c2ccccc21   \n",
       "3  221250369  O=C(Nc1cnccc1C(=O)O)OCC1c2ccccc2-c2ccccc21   \n",
       "4  221250546  O=C(Nc1cnccc1C(=O)O)OCC1c2ccccc2-c2ccccc21   \n",
       "\n",
       "        buildingblock2_smiles    buildingblock3_smiles  \\\n",
       "0               CC1CCCC(CN)O1  NCC1CS(=O)(=O)c2ccccc21   \n",
       "1               CC1CCCC(CN)O1      NCC1CSCCN1Cc1ccccc1   \n",
       "2               CC1CCCC(CN)O1                NCc1nccs1   \n",
       "3  CC1CN(S(=O)(=O)CCN)CC(C)O1    CC(C)NC(=O)NCCN.Cl.Cl   \n",
       "4  CC1CN(S(=O)(=O)CCN)CC(C)O1           CN1CC(CN)CC1=O   \n",
       "\n",
       "                                     molecule_smiles protein_name  binds  \n",
       "0  CC1CCCC(CNc2nc(NCC3CS(=O)(=O)c4ccccc43)nc(Nc3c...         BRD4      0  \n",
       "1  CC1CCCC(CNc2nc(NCC3CSCCN3Cc3ccccc3)nc(Nc3cnccc...         BRD4      0  \n",
       "2  CC1CCCC(CNc2nc(NCc3nccs3)nc(Nc3cnccc3C(=O)N[Dy...         BRD4      0  \n",
       "3  CC(C)NC(=O)NCCNc1nc(NCCS(=O)(=O)N2CC(C)OC(C)C2...         BRD4      0  \n",
       "4  CC1CN(S(=O)(=O)CCNc2nc(NCC3CC(=O)N(C)C3)nc(Nc3...         BRD4      0  "
      ]
     },
     "execution_count": 5,
     "metadata": {},
     "output_type": "execute_result"
    }
   ],
   "source": [
    "brd4_df.head()"
   ]
  },
  {
   "cell_type": "code",
   "execution_count": 6,
   "metadata": {},
   "outputs": [],
   "source": [
    "from rdkit import Chem\n",
    "\n",
    "#Get mol from dataframe\n",
    "buildingblock_columns = ['buildingblock1_smiles', 'buildingblock2_smiles', 'buildingblock3_smiles', 'molecule_smiles']\n",
    "\n",
    "def get_all_molecules(row):\n",
    "    for col in buildingblock_columns:\n",
    "        m = Chem.MolFromSmiles(brd4_df.loc[row,col])\n",
    "        display(m)\n"
   ]
  },
  {
   "cell_type": "code",
   "execution_count": 7,
   "metadata": {},
   "outputs": [
    {
     "data": {
      "text/html": [
       "<div>\n",
       "<style scoped>\n",
       "    .dataframe tbody tr th:only-of-type {\n",
       "        vertical-align: middle;\n",
       "    }\n",
       "\n",
       "    .dataframe tbody tr th {\n",
       "        vertical-align: top;\n",
       "    }\n",
       "\n",
       "    .dataframe thead th {\n",
       "        text-align: right;\n",
       "    }\n",
       "</style>\n",
       "<table border=\"1\" class=\"dataframe\">\n",
       "  <thead>\n",
       "    <tr style=\"text-align: right;\">\n",
       "      <th></th>\n",
       "      <th>id</th>\n",
       "      <th>buildingblock1_smiles</th>\n",
       "      <th>buildingblock2_smiles</th>\n",
       "      <th>buildingblock3_smiles</th>\n",
       "      <th>molecule_smiles</th>\n",
       "      <th>protein_name</th>\n",
       "      <th>binds</th>\n",
       "    </tr>\n",
       "  </thead>\n",
       "  <tbody>\n",
       "    <tr>\n",
       "      <th>0</th>\n",
       "      <td>221249733</td>\n",
       "      <td>O=C(Nc1cnccc1C(=O)O)O</td>\n",
       "      <td>CC1CCCC(CN)O1</td>\n",
       "      <td>NCC1CS(=O)(=O)c2ccccc21</td>\n",
       "      <td>CC1CCCC(CNc2nc(NCC3CS(=O)(=O)c4ccccc43)nc(Nc3c...</td>\n",
       "      <td>BRD4</td>\n",
       "      <td>0</td>\n",
       "    </tr>\n",
       "  </tbody>\n",
       "</table>\n",
       "</div>"
      ],
      "text/plain": [
       "          id  buildingblock1_smiles buildingblock2_smiles  \\\n",
       "0  221249733  O=C(Nc1cnccc1C(=O)O)O         CC1CCCC(CN)O1   \n",
       "\n",
       "     buildingblock3_smiles                                    molecule_smiles  \\\n",
       "0  NCC1CS(=O)(=O)c2ccccc21  CC1CCCC(CNc2nc(NCC3CS(=O)(=O)c4ccccc43)nc(Nc3c...   \n",
       "\n",
       "  protein_name  binds  \n",
       "0         BRD4      0  "
      ]
     },
     "execution_count": 7,
     "metadata": {},
     "output_type": "execute_result"
    }
   ],
   "source": [
    "import re\n",
    "\n",
    "for index in brd4_df.index:\n",
    "    brd4_df.at[index, 'buildingblock1_smiles'] = brd4_df.at[index, 'buildingblock1_smiles'].replace('CC1c2ccccc2-c2ccccc21', '')\n",
    "\n",
    "brd4_df.head(1)"
   ]
  },
  {
   "cell_type": "code",
   "execution_count": 9,
   "metadata": {},
   "outputs": [],
   "source": [
    "bb1_smiles = {y:x for x,y in enumerate(brd4_df.buildingblock1_smiles.unique())}\n",
    "bb2_smiles = {y:x for x,y in enumerate(brd4_df.buildingblock2_smiles.unique())}\n",
    "bb3_smiles = {y:x for x,y in enumerate(brd4_df.buildingblock3_smiles.unique())}"
   ]
  },
  {
   "cell_type": "code",
   "execution_count": 13,
   "metadata": {},
   "outputs": [
    {
     "ename": "TypeError",
     "evalue": "'dict_keys' object is not subscriptable",
     "output_type": "error",
     "traceback": [
      "\u001b[0;31m---------------------------------------------------------------------------\u001b[0m",
      "\u001b[0;31mTypeError\u001b[0m                                 Traceback (most recent call last)",
      "Cell \u001b[0;32mIn[13], line 1\u001b[0m\n\u001b[0;32m----> 1\u001b[0m \u001b[43mbb1_smiles\u001b[49m\u001b[38;5;241;43m.\u001b[39;49m\u001b[43mkeys\u001b[49m\u001b[43m(\u001b[49m\u001b[43m)\u001b[49m\u001b[43m[\u001b[49m\u001b[38;5;241;43m0\u001b[39;49m\u001b[43m]\u001b[49m\n",
      "\u001b[0;31mTypeError\u001b[0m: 'dict_keys' object is not subscriptable"
     ]
    }
   ],
   "source": [
    "bb1_smiles.keys()"
   ]
  },
  {
   "cell_type": "code",
   "execution_count": 17,
   "metadata": {},
   "outputs": [
    {
     "data": {
      "text/plain": [
       "'O=C(Nc1cnccc1C(=O)O)O'"
      ]
     },
     "execution_count": 17,
     "metadata": {},
     "output_type": "execute_result"
    }
   ],
   "source": [
    "list(bb1_smiles.keys())[0]"
   ]
  },
  {
   "cell_type": "code",
   "execution_count": null,
   "metadata": {},
   "outputs": [],
   "source": [
    "from rdkit import Chem\n",
    "from rdkit.Chem import Descriptors\n",
    "\n",
    "descriptors_bb1 = [Descriptors.CalcMolDescriptors(Chem.MolFromSmiles(smile)) for smile in list(bb1_smiles.keys())]\n",
    "descriptors_bb1_df = pd.DataFrame(descriptors_bb1)\n",
    "\n",
    "descriptors_bb2 = [Descriptors.CalcMolDescriptors(Chem.MolFromSmiles(smile)) for smile in list(bb2_smiles.keys())]\n",
    "descriptors_bb2_df = pd.DataFrame(descriptors_bb2)\n",
    "\n",
    "descriptors_bb3 = [Descriptors.CalcMolDescriptors(Chem.MolFromSmiles(smile)) for smile in list(bb3_smiles.keys())]\n",
    "descriptors_bb3_df = pd.DataFrame(descriptors_bb3)\n"
   ]
  }
 ],
 "metadata": {
  "kernelspec": {
   "display_name": ".venv",
   "language": "python",
   "name": "python3"
  },
  "language_info": {
   "codemirror_mode": {
    "name": "ipython",
    "version": 3
   },
   "file_extension": ".py",
   "mimetype": "text/x-python",
   "name": "python",
   "nbconvert_exporter": "python",
   "pygments_lexer": "ipython3",
   "version": "3.11.2"
  }
 },
 "nbformat": 4,
 "nbformat_minor": 2
}
